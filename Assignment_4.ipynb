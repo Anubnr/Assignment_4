{
 "cells": [
  {
   "cell_type": "code",
   "execution_count": null,
   "id": "5c2d46f7",
   "metadata": {},
   "outputs": [],
   "source": [
    "1.What exactly is []?\n",
    "\n",
    "In python, [] is an empty list. "
   ]
  },
  {
   "cell_type": "code",
   "execution_count": null,
   "id": "a8e325bb",
   "metadata": {},
   "outputs": [],
   "source": [
    "2. In a list of values stored in a variable called spam, how would you assign the value 'hello' as the\n",
    "third value? (Assume [2, 4, 6, 8, 10] are in spam.)\n",
    "\n",
    "spam = [2,4,6,8,10]\n",
    "\n",
    "spam[2] = 'hello'\n",
    "\n",
    "now, spam = [2,4,'hello',6,8,10]"
   ]
  },
  {
   "cell_type": "code",
   "execution_count": null,
   "id": "665963e3",
   "metadata": {},
   "outputs": [],
   "source": [
    "Let's pretend the spam includes the list ['a','b','c','d'] for the next three queries."
   ]
  },
  {
   "cell_type": "code",
   "execution_count": null,
   "id": "f4d659d5",
   "metadata": {},
   "outputs": [],
   "source": [
    "3. What is the value of spam[int(int('3' * 2) / 11)]?\n",
    "\n",
    "spam[3] ------- 'd'\n",
    "\n",
    "# int(int('3'*2)/11) = 3\n"
   ]
  },
  {
   "cell_type": "code",
   "execution_count": null,
   "id": "1d8ae957",
   "metadata": {},
   "outputs": [],
   "source": [
    "4. What is the value of spam[-1]?\n",
    "\n",
    "spam[-1] --------- 'd'"
   ]
  },
  {
   "cell_type": "code",
   "execution_count": null,
   "id": "1a39f624",
   "metadata": {},
   "outputs": [],
   "source": [
    "5. What is the value of spam[:2]?\n",
    "\n",
    "spam[:2] ---------- ['a','b']"
   ]
  },
  {
   "cell_type": "code",
   "execution_count": null,
   "id": "11b746ed",
   "metadata": {},
   "outputs": [],
   "source": [
    "Let's pretend bacon has the list [3.14, 'cat' 11, 'cat', True] for the next three questions."
   ]
  },
  {
   "cell_type": "code",
   "execution_count": null,
   "id": "cba7fb58",
   "metadata": {},
   "outputs": [],
   "source": [
    "6. What is the value of bacon.index('cat')?\n",
    "\n",
    "bacon.index('cat')  ---------   1\n",
    "\n",
    "# it gives the first encounter of 'cat'"
   ]
  },
  {
   "cell_type": "code",
   "execution_count": null,
   "id": "40d03b9c",
   "metadata": {},
   "outputs": [],
   "source": [
    "7. How does bacon.append(99) change the look of the list value in bacon?\n",
    "\n",
    "when we append bacon with 99, it adds the 99 at the end of the list.\n",
    "\n",
    "now, the bacon list will be, [3.14, 'cat', 11, 'cat', True, 99]"
   ]
  },
  {
   "cell_type": "code",
   "execution_count": null,
   "id": "35c3a559",
   "metadata": {},
   "outputs": [],
   "source": [
    "8. How does bacon.remove('cat') change the look of the list in bacon?\n",
    "\n",
    "bacon.remove('cat') removes the first encounter of 'cat' from the bacon.\n",
    "\n",
    "now, the bacon list will looks like, [3.14, 11, 'cat', True, 99] "
   ]
  },
  {
   "cell_type": "code",
   "execution_count": null,
   "id": "72f383a9",
   "metadata": {},
   "outputs": [],
   "source": [
    "9. What are the list concatenation and list replication operators?\n",
    "\n",
    "+ is the list concatenation operator. This is used to add lists.\n",
    "\n",
    "* is the list replication operator. This is used to replicate the list."
   ]
  },
  {
   "cell_type": "code",
   "execution_count": null,
   "id": "99aa2226",
   "metadata": {},
   "outputs": [],
   "source": [
    "10. What is difference between the list methods append() and insert()?\n",
    "\n",
    "append() method  adds the item at the end ofthe list.\n",
    "\n",
    "insert() method also used to add an item to the list, but here, we can give the index number also, that is, where we want to insert the item."
   ]
  },
  {
   "cell_type": "code",
   "execution_count": null,
   "id": "28682fd2",
   "metadata": {},
   "outputs": [],
   "source": [
    "11. What are the two methods for removing items from a list?\n",
    "\n",
    "remove() and pop() are the two methods used for removing items from a list."
   ]
  },
  {
   "cell_type": "code",
   "execution_count": null,
   "id": "cfc135ba",
   "metadata": {},
   "outputs": [],
   "source": [
    "12. Describe how list values and string values are identical.\n",
    "\n",
    "Both list and string are ordered collection of characters.\n",
    "Both can be concatenated and replicated.\n",
    "Both have indexing and slicing.\n",
    "Both can be used in for loops. "
   ]
  },
  {
   "cell_type": "code",
   "execution_count": null,
   "id": "3b73e78a",
   "metadata": {},
   "outputs": [],
   "source": [
    "13. What's the difference between tuples and lists?\n",
    "\n",
    "tuples are immutable, they cannot be changed once it's declared.\n",
    "\n",
    "lists are mutable, they can have values added, removed or changed.\n",
    "\n",
    "tuples are written using parentheses ().\n",
    "\n",
    "lists are written using square brackets []."
   ]
  },
  {
   "cell_type": "code",
   "execution_count": null,
   "id": "6a41b8c0",
   "metadata": {},
   "outputs": [],
   "source": [
    "14. How do you type a tuple value that only contains the integer 42?\n",
    "\n",
    "a = (42,)\n",
    "\n",
    "Without comma, datatype of will be integer."
   ]
  },
  {
   "cell_type": "code",
   "execution_count": null,
   "id": "a451431f",
   "metadata": {},
   "outputs": [],
   "source": [
    "15. How do you get a list value's tuple form? How do you get a tuple value's list form?\n",
    "\n",
    "list() and tuple() functions respectively. \n",
    "\n",
    "if a = (1,2,3)\n",
    "then list(a) will be [1,2,3]\n",
    "\n",
    "if b = [4,5,6]\n",
    "then tuple(b) will be [4,5,6]"
   ]
  },
  {
   "cell_type": "code",
   "execution_count": null,
   "id": "014d598d",
   "metadata": {},
   "outputs": [],
   "source": [
    "16. Variables that \"contain\" list values are not necessarily lists themselves. Instead, what do they contain?\n",
    "\n",
    "They contain references to list values."
   ]
  },
  {
   "cell_type": "code",
   "execution_count": null,
   "id": "8c38b24c",
   "metadata": {},
   "outputs": [],
   "source": [
    "17. How do you distinguish between copy.copy() and copy.deepcopy()?\n",
    "\n",
    "The copy.copy() function will do a shallow copy of a list, while copy.deepcopy() funtion will do a deep copy of a list. \n",
    "That is, only copy.deepcopy() will duplicate any lists inside the list."
   ]
  }
 ],
 "metadata": {
  "kernelspec": {
   "display_name": "Python 3 (ipykernel)",
   "language": "python",
   "name": "python3"
  },
  "language_info": {
   "codemirror_mode": {
    "name": "ipython",
    "version": 3
   },
   "file_extension": ".py",
   "mimetype": "text/x-python",
   "name": "python",
   "nbconvert_exporter": "python",
   "pygments_lexer": "ipython3",
   "version": "3.9.7"
  }
 },
 "nbformat": 4,
 "nbformat_minor": 5
}
